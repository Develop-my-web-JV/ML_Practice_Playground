{
  "nbformat": 4,
  "nbformat_minor": 0,
  "metadata": {
    "colab": {
      "provenance": [],
      "authorship_tag": "ABX9TyNMNi4OdarzDGS2Fk5Fkg9c",
      "include_colab_link": true
    },
    "kernelspec": {
      "name": "python3",
      "display_name": "Python 3"
    },
    "language_info": {
      "name": "python"
    }
  },
  "cells": [
    {
      "cell_type": "markdown",
      "metadata": {
        "id": "view-in-github",
        "colab_type": "text"
      },
      "source": [
        "<a href=\"https://colab.research.google.com/github/Develop-my-web-JV/ML_Practice_Playground/blob/main/nnfromscratch.ipynb\" target=\"_parent\"><img src=\"https://colab.research.google.com/assets/colab-badge.svg\" alt=\"Open In Colab\"/></a>"
      ]
    },
    {
      "cell_type": "code",
      "execution_count": null,
      "metadata": {
        "id": "GxR1jYckfi85"
      },
      "outputs": [],
      "source": [
        "import numpy as np\n",
        "import matplotlib.pyplot as plt"
      ]
    },
    {
      "cell_type": "code",
      "source": [
        "# data set\n",
        "\n",
        "# A\n",
        "a = [0,0,1,1,0,0,\n",
        "     0,1,0,0,1,0,\n",
        "     1,1,1,1,1,1,\n",
        "     1,0,0,0,0,1,\n",
        "     1,0,0,0,0,1]\n",
        "\n",
        "# B\n",
        "b = [0,1,1,1,1,0,\n",
        "     0,1,0,0,1,0,\n",
        "     0,1,1,1,1,0,\n",
        "     0,1,0,0,1,0,\n",
        "     0,1,1,1,1,0]\n",
        "\n",
        "# C\n",
        "c = [0,1,1,1,1,0,\n",
        "     0,1,0,0,0,0,\n",
        "     0,1,0,0,0,0,\n",
        "     0,1,0,0,0,0,\n",
        "     0,1,1,1,1,0]"
      ],
      "metadata": {
        "id": "57HlaFuggcXS"
      },
      "execution_count": null,
      "outputs": []
    },
    {
      "cell_type": "code",
      "source": [
        "# create labels\n",
        "y = [[1,0,0],\n",
        "     [0,1,0],\n",
        "     [0,0,1]]"
      ],
      "metadata": {
        "id": "8QGyZxIPhj20"
      },
      "execution_count": null,
      "outputs": []
    },
    {
      "cell_type": "code",
      "source": [
        "#  visualize the data\n",
        "plt.imshow(np.array(a).reshape(5,6))\n",
        "plt.show\n",
        "\n",
        "# plt.imshow(np.array(b).reshape(5,6))\n",
        "# plt.show\n",
        "\n",
        "# plt.imshow(np.array(c).reshape(5,6))\n",
        "# plt.show"
      ],
      "metadata": {
        "colab": {
          "base_uri": "https://localhost:8080/",
          "height": 447
        },
        "id": "1Lp2Nlsjh4Ai",
        "outputId": "f741f733-4e39-4ff4-b0b9-24e2e95f9744"
      },
      "execution_count": null,
      "outputs": [
        {
          "output_type": "execute_result",
          "data": {
            "text/plain": [
              "<function matplotlib.pyplot.show(close=None, block=None)>"
            ]
          },
          "metadata": {},
          "execution_count": 7
        },
        {
          "output_type": "display_data",
          "data": {
            "text/plain": [
              "<Figure size 640x480 with 1 Axes>"
            ],
            "image/png": "[encoded data removed]"
          },
          "metadata": {}
        }
      ]
    },
    {
      "cell_type": "code",
      "source": [
        "# convert data and labels into numpy array\n",
        "x = [np.array(a).reshape(1,30),\n",
        "     np.array(b).reshape(1,30),\n",
        "     np.array(c).reshape(1,30)]\n",
        "\n",
        "y = np.array(y)\n",
        "\n",
        "print(x,\"\\n\\n\",y)"
      ],
      "metadata": {
        "colab": {
          "base_uri": "https://localhost:8080/"
        },
        "id": "CIqv2DhaiVKC",
        "outputId": "1cb1c6af-e135-4b7f-b7b7-53b48ed598d9"
      },
      "execution_count": null,
      "outputs": [
        {
          "output_type": "stream",
          "name": "stdout",
          "text": [
            "[array([[0, 0, 1, 1, 0, 0, 0, 1, 0, 0, 1, 0, 1, 1, 1, 1, 1, 1, 1, 0, 0, 0,\n",
            "        0, 1, 1, 0, 0, 0, 0, 1]]), array([[0, 1, 1, 1, 1, 0, 0, 1, 0, 0, 1, 0, 0, 1, 1, 1, 1, 0, 0, 1, 0, 0,\n",
            "        1, 0, 0, 1, 1, 1, 1, 0]]), array([[0, 1, 1, 1, 1, 0, 0, 1, 0, 0, 0, 0, 0, 1, 0, 0, 0, 0, 0, 1, 0, 0,\n",
            "        0, 0, 0, 1, 1, 1, 1, 0]])] \n",
            "\n",
            " [[1 0 0]\n",
            " [0 1 0]\n",
            " [0 0 1]]\n"
          ]
        }
      ]
    },
    {
      "cell_type": "code",
      "source": [
        "# input layer (1,30)\n",
        "# hidden layer (1,5)\n",
        "# output layer (3,3)\n",
        "\n",
        "# activation function\n",
        "def sigmoid(x):\n",
        "  return (1 / (1 + np.exp(-x)))"
      ],
      "metadata": {
        "id": "yjgZIQ_IjYIZ"
      },
      "execution_count": null,
      "outputs": []
    },
    {
      "cell_type": "code",
      "source": [
        "# feed forward neural network\n",
        "def f_forward(x,w1,w2):\n",
        "  # hiden layer\n",
        "  z1 = x.dot(w1)\n",
        "  a1 = sigmoid(z1)\n",
        "\n",
        "  # output layer\n",
        "  z2 = a1.dot(w2)\n",
        "  a2 = sigmoid(z2)\n",
        "\n",
        "  return(a2)"
      ],
      "metadata": {
        "id": "Sn5jtwqhmQ-N"
      },
      "execution_count": null,
      "outputs": []
    },
    {
      "cell_type": "code",
      "source": [
        "# initialize the weights\n",
        "def generate_weights(x,y):\n",
        "  l = []\n",
        "\n",
        "  for i in range(x*y):\n",
        "    l.apppend(np.random.randn())\n",
        "\n",
        "  return (np.array(l).reshape(x,y))"
      ],
      "metadata": {
        "id": "pjjpT66DoXLb"
      },
      "execution_count": null,
      "outputs": []
    },
    {
      "cell_type": "code",
      "source": [
        "def loss(output, y):\n",
        "  # Mean suqre error loss method\n",
        "  s = np.square(output-y)\n",
        "  s = np.sum(s)/len(y) # Avg (sum/n)\n",
        "  return(s)"
      ],
      "metadata": {
        "id": "itjsr263pN0b"
      },
      "execution_count": null,
      "outputs": []
    },
    {
      "cell_type": "code",
      "source": [
        "# back propogation\n",
        "def back_prop(x,y,w1,w2,alpha):\n",
        "  # hidden layer\n",
        "  z1 = x.dot(w1) # input for layer 1\n",
        "  a1  = sigmoid(z1) #output\n",
        "\n",
        "  # output layer\n",
        "  z2 = a1.dot(w2) # input of output layer\n",
        "  a2 = sigmoid(z2) # output of outer layer\n",
        "\n",
        "  d2 = (a2-y)\n",
        "  d1 = np.multiply( (w2).dot( (d2.transpose()) ) ).transpose(), (np.multiply(a1, 1-a1))\n",
        "\n",
        "  # gradient\n",
        "  w1_adj = x.transpose().dot(d1) # d1 is the error\n",
        "  w2_adj = y.transpose().dot(d2)\n",
        "\n",
        "  w1 = w1 - (alpha * w1_adj)\n",
        "  w2 = w2 - (alpha * w2_adj)\n",
        "\n",
        "  return (w1,w2)"
      ],
      "metadata": {
        "id": "jO6SENsEr2BE"
      },
      "execution_count": null,
      "outputs": []
    },
    {
      "cell_type": "code",
      "source": [
        "def train():\n",
        "  pass"
      ],
      "metadata": {
        "id": "fE2qgA0suVdq"
      },
      "execution_count": null,
      "outputs": []
    }
  ]
}